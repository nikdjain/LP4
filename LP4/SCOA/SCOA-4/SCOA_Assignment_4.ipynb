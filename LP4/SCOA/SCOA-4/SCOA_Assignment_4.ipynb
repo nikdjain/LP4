{
  "nbformat": 4,
  "nbformat_minor": 0,
  "metadata": {
    "kernelspec": {
      "display_name": "Python 3",
      "language": "python",
      "name": "python3"
    },
    "language_info": {
      "codemirror_mode": {
        "name": "ipython",
        "version": 3
      },
      "file_extension": ".py",
      "mimetype": "text/x-python",
      "name": "python",
      "nbconvert_exporter": "python",
      "pygments_lexer": "ipython3",
      "version": "3.8.3"
    },
    "colab": {
      "name": "SCOA Assignment 4.ipynb",
      "provenance": []
    }
  },
  "cells": [
    {
      "cell_type": "code",
      "metadata": {
        "id": "Y4I-pqbxE1gI"
      },
      "source": [
        "import numpy as np\n",
        "class mcp:\n",
        "    def __init__(self,X):\n",
        "        self.X=X\n",
        "        #self.y=y\n",
        "    \n",
        "    def g(self):\n",
        "        return np.sum(self.X,axis=1)\n",
        "    \n",
        "    def f(self,op):\n",
        "        y=[]\n",
        "        b=self.X.shape[1] if op=='And' else 1 \n",
        "        for i in range(X.shape[0]):\n",
        "            #print(1 if self.g()[i] >= b else 0)\n",
        "            if self.g()[i] >= b:\n",
        "                y.append([1])\n",
        "            else:\n",
        "                y.append([0])\n",
        "        return np.array(y)\n",
        "    \n",
        "    #def loss_cal(y_pred,y):\n",
        "    #   return ((y-y_pred)**2).mean()"
      ],
      "execution_count": null,
      "outputs": []
    },
    {
      "cell_type": "code",
      "metadata": {
        "colab": {
          "base_uri": "https://localhost:8080/"
        },
        "id": "3ChvShNTE1gK",
        "outputId": "cad18033-241d-4fec-d7f1-b339fedb123e"
      },
      "source": [
        "n=int(input('Enter no of instances: '))\n",
        "m=int(input('Enter no of features: '))\n",
        "X=np.random.randint(2,size=(n,m))\n",
        "print('\\nTruth table:\\n',X)\n",
        "neuron=mcp(X)\n",
        "print('\\nOuput of And operation:\\n',neuron.f('And'))\n",
        "print('\\nOuput of Or operation:\\n',neuron.f('Or'))"
      ],
      "execution_count": null,
      "outputs": [
        {
          "output_type": "stream",
          "text": [
            "Enter no of instances: 4\n",
            "Enter no of features: 3\n",
            "\n",
            "Truth table:\n",
            " [[0 1 0]\n",
            " [1 1 1]\n",
            " [0 1 0]\n",
            " [0 1 0]]\n",
            "\n",
            "Ouput of And operation:\n",
            " [[0]\n",
            " [1]\n",
            " [0]\n",
            " [0]]\n",
            "\n",
            "Ouput of Or operation:\n",
            " [[1]\n",
            " [1]\n",
            " [1]\n",
            " [1]]\n"
          ],
          "name": "stdout"
        }
      ]
    },
    {
      "cell_type": "code",
      "metadata": {
        "id": "EyLFOct_E1gL"
      },
      "source": [
        ""
      ],
      "execution_count": null,
      "outputs": []
    }
  ]
}