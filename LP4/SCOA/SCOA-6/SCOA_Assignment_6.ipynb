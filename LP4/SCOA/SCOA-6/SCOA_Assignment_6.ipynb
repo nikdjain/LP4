{
  "nbformat": 4,
  "nbformat_minor": 0,
  "metadata": {
    "kernelspec": {
      "display_name": "Python 3",
      "language": "python",
      "name": "python3"
    },
    "language_info": {
      "codemirror_mode": {
        "name": "ipython",
        "version": 3
      },
      "file_extension": ".py",
      "mimetype": "text/x-python",
      "name": "python",
      "nbconvert_exporter": "python",
      "pygments_lexer": "ipython3",
      "version": "3.8.3"
    },
    "colab": {
      "name": "SCOA Assignment 6.ipynb",
      "provenance": []
    }
  },
  "cells": [
    {
      "cell_type": "code",
      "metadata": {
        "id": "XFnC9roqxChb"
      },
      "source": [
        "import numpy as np"
      ],
      "execution_count": null,
      "outputs": []
    },
    {
      "cell_type": "code",
      "metadata": {
        "id": "qZNwkGMdxChb"
      },
      "source": [
        "#layer sizes\n",
        "def initialize(layer_count):\n",
        "    layer_dict={}\n",
        "    for i in range(layer_count+1):\n",
        "        print('\\nEnter of nodes in layer',i,': ',end=' ')\n",
        "        layer_dict['l'+str(i)]=int(input())\n",
        "    return layer_dict"
      ],
      "execution_count": null,
      "outputs": []
    },
    {
      "cell_type": "code",
      "metadata": {
        "id": "FZDgUctQxChc"
      },
      "source": [
        "#parameter matrix\n",
        "def param(layer_dict,layer_count):\n",
        "    parameters={}\n",
        "    for i in range(layer_count):\n",
        "        W=np.ones([layer_dict['l'+str(i+1)],layer_dict['l'+str(i)]])\n",
        "        b=np.zeros([layer_dict['l'+str(i+1)],1])\n",
        "        parameters['W'+str(i+1)]=W\n",
        "        parameters['b'+str(i+1)]=b\n",
        "    return parameters"
      ],
      "execution_count": null,
      "outputs": []
    },
    {
      "cell_type": "code",
      "metadata": {
        "id": "m8iHbpodxChc"
      },
      "source": [
        "#activation function\n",
        "def activation(X):\n",
        "    return 5*X\n",
        "\n",
        "#linear transformation function\n",
        "def transform(weight,bias,x):\n",
        "    return (np.dot(weight,x)+bias)"
      ],
      "execution_count": null,
      "outputs": []
    },
    {
      "cell_type": "code",
      "metadata": {
        "id": "tclvj7HpxChd"
      },
      "source": [
        "#Forward propogation\n",
        "def forward_prop(X,parameters,layer_count):\n",
        "    cache={}\n",
        "    cache['A0']=X\n",
        "    for i in range(layer_count):\n",
        "        Z=transform(parameters['W'+str(i+1)],parameters['b'+str(i+1)],cache['A'+str(i)])\n",
        "        A=activation(Z)\n",
        "        cache['Z'+str(i+1)]=Z\n",
        "        cache['A'+str(i+1)]=A\n",
        "    return cache['A2'],cache"
      ],
      "execution_count": null,
      "outputs": []
    },
    {
      "cell_type": "code",
      "metadata": {
        "id": "PxlnE8jGxChd"
      },
      "source": [
        "def cal_cost(final_output,target_labels):\n",
        "    cost=np.square(np.subtract(target_labels,final_output)).mean()\n",
        "    np.squeeze(cost)\n",
        "    return cost"
      ],
      "execution_count": null,
      "outputs": []
    },
    {
      "cell_type": "code",
      "metadata": {
        "id": "6D2k9XZqxChe"
      },
      "source": [
        "def back_prop(cache,parameters,X,Y,layer_count):\n",
        "    m=cache['A0'].shape[1]\n",
        "    updates={}\n",
        "    dZ=5\n",
        "    for i in reversed(range(1,1+layer_count)):\n",
        "        if i==layer_count:\n",
        "            dA=cache['A'+str(i)]-Y\n",
        "        else:\n",
        "            dA=dZ*np.multiply(dA.T,parameters['W'+str(i+1)])\n",
        "        dW=(dZ*np.multiply(dA,cache['A'+str(i-1)]))/m\n",
        "        db=(np.sum(dA*dZ))/m\n",
        "        updates['dW'+str(i)]=dW\n",
        "        updates['db'+str(i)]=db\n",
        "        \n",
        "    return updates"
      ],
      "execution_count": null,
      "outputs": []
    },
    {
      "cell_type": "code",
      "metadata": {
        "id": "Nz8tmSqnxChe"
      },
      "source": [
        "def update_param(updates,parameters,learning_rate,layer_count):\n",
        "    new_parameters={}\n",
        "    for i in range(layer_count):\n",
        "        new_parameters['W'+str(i+1)]=parameters['W'+str(i+1)]-learning_rate*updates['dW'+str(i+1)]\n",
        "        new_parameters['b'+str(i+1)]=parameters['b'+str(i+1)]-learning_rate*updates['db'+str(i+1)]\n",
        "    return new_parameters  "
      ],
      "execution_count": null,
      "outputs": []
    },
    {
      "cell_type": "code",
      "metadata": {
        "id": "zWLtzh2GxChe",
        "outputId": "57c3ff3e-2dfe-428c-e721-00f5400064f3"
      },
      "source": [
        "#initilize layer size\n",
        "layer_count=int(input('Enter Number of layers in Neural Network: '))\n",
        "layer_dict=initialize(layer_count)"
      ],
      "execution_count": null,
      "outputs": [
        {
          "output_type": "stream",
          "text": [
            "Enter Number of layers in Neural Network: 2\n",
            "\n",
            "Enter of nodes in layer 0 :  2\n",
            "\n",
            "Enter of nodes in layer 1 :  2\n",
            "\n",
            "Enter of nodes in layer 2 :  1\n"
          ],
          "name": "stdout"
        }
      ]
    },
    {
      "cell_type": "code",
      "metadata": {
        "id": "ygxVBCu_xChf",
        "outputId": "72cf9a26-5d0a-4606-976b-133392db0eb1"
      },
      "source": [
        "#dataset\n",
        "m=int(input('\\nEnter number of input instances:'))\n",
        "X,Y=[[]*m],[[]*m]\n",
        "for i in range(m):\n",
        "    for j in range(layer_dict['l0']):\n",
        "        print('\\nEnter feature value x'+str(j+1),'for instance',i+1,': ',end=' ')\n",
        "        X[i].append(int(input()))\n",
        "    print('\\nEnter target label Y','for instance',i,':',end=' ')\n",
        "    Y[i].append(int(input()))\n",
        "X=np.array(X).reshape([layer_dict['l0'],m])\n",
        "Y=np.array(Y).reshape([layer_dict['l'+str(layer_count)],m])"
      ],
      "execution_count": null,
      "outputs": [
        {
          "output_type": "stream",
          "text": [
            "\n",
            "Enter number of input instances:1\n",
            "\n",
            "Enter feature value x1 for instance 1 :  1\n",
            "\n",
            "Enter feature value x2 for instance 1 :  0\n",
            "\n",
            "Enter target label Y for instance 0 : 1\n"
          ],
          "name": "stdout"
        }
      ]
    },
    {
      "cell_type": "code",
      "metadata": {
        "id": "wcY1xX7-xChg",
        "outputId": "dac4eb84-9263-4c67-b0d5-8954a77ea9f9"
      },
      "source": [
        "#initialize weights and biases\n",
        "parameters=param(layer_dict,layer_count)\n",
        "for key,value in parameters.items():\n",
        "    print('\\n',key,'=',str(value),'\\n')"
      ],
      "execution_count": null,
      "outputs": [
        {
          "output_type": "stream",
          "text": [
            "\n",
            " W1 = [[1. 1.]\n",
            " [1. 1.]] \n",
            "\n",
            "\n",
            " b1 = [[0.]\n",
            " [0.]] \n",
            "\n",
            "\n",
            " W2 = [[1. 1.]] \n",
            "\n",
            "\n",
            " b2 = [[0.]] \n",
            "\n"
          ],
          "name": "stdout"
        }
      ]
    },
    {
      "cell_type": "code",
      "metadata": {
        "id": "WkC26FAMxChg",
        "outputId": "0cc26ac1-eda9-4012-ab9a-c01e09b736f0"
      },
      "source": [
        "#one-pass forward prop and cost calculation\n",
        "output,cache=forward_prop(X,parameters,layer_count)\n",
        "print('Predeiction:',output)\n",
        "cost=cal_cost(output,Y)\n",
        "print('\\nCost: ',cost)"
      ],
      "execution_count": null,
      "outputs": [
        {
          "output_type": "stream",
          "text": [
            "Predeiction: [[1.87556566e+10]\n",
            " [1.87556566e+10]]\n",
            "\n",
            "Cost:  3.5177465258404656e+20\n"
          ],
          "name": "stdout"
        }
      ]
    },
    {
      "cell_type": "code",
      "metadata": {
        "id": "bIiq0vrcxChh",
        "outputId": "94b1fdeb-ca10-41bd-b895-f0a63823c241"
      },
      "source": [
        "#single pass back prop and updated parameters display\n",
        "updates=back_prop(cache,parameters,X,Y,layer_count)\n",
        "for key,value in updates.items():\n",
        "    print('\\n',key,'=',str(value),'\\n')\n",
        "lr=float(input('\\nEnter learning rate:'))\n",
        "parameters=update_param(updates,parameters,lr,layer_count)\n",
        "for key,value in parameters.items():\n",
        "    print('\\n',key,'=',str(value),'\\n')"
      ],
      "execution_count": null,
      "outputs": [
        {
          "output_type": "stream",
          "text": [
            "\n",
            " dW2 = [[1225.]\n",
            " [1225.]] \n",
            "\n",
            "\n",
            " db2 = 245.0 \n",
            "\n",
            "\n",
            " dW1 = [[1225. 1225.]\n",
            " [   0.    0.]] \n",
            "\n",
            "\n",
            " db1 = 2450.0 \n",
            "\n",
            "\n",
            "Enter learning rate:10\n",
            "\n",
            " W1 = [[-1.2249e+04 -1.2249e+04]\n",
            " [ 1.0000e+00  1.0000e+00]] \n",
            "\n",
            "\n",
            " b1 = [[-24500.]\n",
            " [-24500.]] \n",
            "\n",
            "\n",
            " W2 = [[-12249. -12249.]\n",
            " [-12249. -12249.]] \n",
            "\n",
            "\n",
            " b2 = [[-2450.]] \n",
            "\n"
          ],
          "name": "stdout"
        }
      ]
    },
    {
      "cell_type": "code",
      "metadata": {
        "id": "uefryaXbxChj",
        "outputId": "b36365c7-18ec-471b-eaee-61babf575ad2"
      },
      "source": [
        "#combined forward and back prop for multiple epochs\n",
        "iterations=int(input('Enter number of epochs: '))\n",
        "for i in range(iterations):\n",
        "    output,cache=forward_prop(X,parameters,layer_count)\n",
        "    print('\\nPredeiction:',output)\n",
        "    cost=cal_cost(output,Y)\n",
        "    print('\\nCost: ',cost)\n",
        "    updates=back_prop(cache,parameters,X,Y,layer_count)\n",
        "    lr=float(input('\\nEnter learning rate:'))\n",
        "    parameters=update_param(updates,parameters,lr,layer_count)\n",
        "    for key,value in parameters.items():\n",
        "        print('\\n',key,'=',str(value),'\\n')"
      ],
      "execution_count": null,
      "outputs": [
        {
          "output_type": "stream",
          "text": [
            "Enter number of epochs: 5\n",
            "\n",
            "Predeiction: [[1.87556566e+10]\n",
            " [1.87556566e+10]]\n",
            "\n",
            "Cost:  3.5177465258404656e+20\n",
            "\n",
            "Enter learning rate:10\n",
            "\n",
            " W1 = [[5.74345093e+16 5.74345093e+16]\n",
            " [1.00000000e+00 1.00000000e+00]] \n",
            "\n",
            "\n",
            " b1 = [[2.29738037e+17]\n",
            " [2.29738037e+17]] \n",
            "\n",
            "\n",
            " W2 = [[1.72312906e+17 1.72312906e+17]\n",
            " [1.14873707e+17 1.14873707e+17]] \n",
            "\n",
            "\n",
            " b2 = [[-1.87556566e+12]] \n",
            "\n",
            "\n",
            "Predeiction: [[2.22675911e+36]\n",
            " [1.48448588e+36]]\n",
            "\n",
            "Cost:  3.5810772383982626e+72\n",
            "\n",
            "Enter learning rate:10\n",
            "\n",
            " W1 = [[-9.59248333e+55 -6.39490188e+55]\n",
            " [ 1.00000000e+00  1.00000000e+00]] \n",
            "\n",
            "\n",
            " b1 = [[-2.6645497e+56]\n",
            " [-2.6645497e+56]] \n",
            "\n",
            "\n",
            " W2 = [[-1.59866021e+56 -1.59866021e+56]\n",
            " [-8.52607179e+55 -8.52607179e+55]] \n",
            "\n",
            "\n",
            " b2 = [[-1.8556225e+38]] \n",
            "\n",
            "\n",
            "Predeiction: [[2.51323283e+114]\n",
            " [1.34037261e+114]]\n",
            "\n",
            "Cost:  4.0564689903162776e+228\n",
            "\n",
            "Enter learning rate:10\n"
          ],
          "name": "stdout"
        },
        {
          "output_type": "stream",
          "text": [
            "<ipython-input-8-a76d8b8e47f5>:10: RuntimeWarning: invalid value encountered in multiply\n",
            "  dW=(dZ*np.multiply(dA,cache['A'+str(i-1)]))/m\n"
          ],
          "name": "stderr"
        },
        {
          "output_type": "stream",
          "text": [
            "\n",
            " W1 = [[1.00445133e+173 5.35700089e+172]\n",
            " [1.00000000e+000 1.00000000e+000]] \n",
            "\n",
            "\n",
            " b1 = [[2.36155434e+173]\n",
            " [2.36155434e+173]] \n",
            "\n",
            "\n",
            " W2 = [[2.27686205e+173 2.27686205e+173]\n",
            " [8.92872356e+172 8.92872356e+172]] \n",
            "\n",
            "\n",
            " b2 = [[-1.92680272e+116]] \n",
            "\n",
            "\n",
            "Predeiction: [[inf]\n",
            " [inf]]\n",
            "\n",
            "Cost:  inf\n"
          ],
          "name": "stdout"
        }
      ]
    },
    {
      "cell_type": "code",
      "metadata": {
        "id": "-CoSGOIXxChj",
        "outputId": "b0c23d62-15d2-420b-b16f-04a44a117fbe"
      },
      "source": [
        "cache['A'+str(i-1)].T"
      ],
      "execution_count": null,
      "outputs": [
        {
          "output_type": "error",
          "ename": "KeyError",
          "evalue": "'A-1'",
          "traceback": [
            "\u001b[0;31m---------------------------------------------------------------------------\u001b[0m",
            "\u001b[0;31mKeyError\u001b[0m                                  Traceback (most recent call last)",
            "\u001b[0;32m<ipython-input-6-523355c0104a>\u001b[0m in \u001b[0;36m<module>\u001b[0;34m\u001b[0m\n\u001b[0;32m----> 1\u001b[0;31m \u001b[0mcache\u001b[0m\u001b[0;34m[\u001b[0m\u001b[0;34m'A'\u001b[0m\u001b[0;34m+\u001b[0m\u001b[0mstr\u001b[0m\u001b[0;34m(\u001b[0m\u001b[0mi\u001b[0m\u001b[0;34m-\u001b[0m\u001b[0;36m1\u001b[0m\u001b[0;34m)\u001b[0m\u001b[0;34m]\u001b[0m\u001b[0;34m.\u001b[0m\u001b[0mT\u001b[0m\u001b[0;34m\u001b[0m\u001b[0;34m\u001b[0m\u001b[0m\n\u001b[0m",
            "\u001b[0;31mKeyError\u001b[0m: 'A-1'"
          ]
        }
      ]
    },
    {
      "cell_type": "code",
      "metadata": {
        "id": "r2bRVtPmxChk",
        "outputId": "ca704af2-61b5-446e-c26a-c5d744d3adce"
      },
      "source": [
        "output"
      ],
      "execution_count": null,
      "outputs": [
        {
          "output_type": "execute_result",
          "data": {
            "text/plain": [
              "array([[521589.704]])"
            ]
          },
          "metadata": {
            "tags": []
          },
          "execution_count": 32
        }
      ]
    },
    {
      "cell_type": "code",
      "metadata": {
        "id": "XaaZZmhSxChk",
        "outputId": "03d317df-851e-4de9-c1a6-0708c0134db7"
      },
      "source": [
        "output"
      ],
      "execution_count": null,
      "outputs": [
        {
          "output_type": "execute_result",
          "data": {
            "text/plain": [
              "array([[2.]])"
            ]
          },
          "metadata": {
            "tags": []
          },
          "execution_count": 37
        }
      ]
    },
    {
      "cell_type": "code",
      "metadata": {
        "id": "fGm3KnG6xChk",
        "outputId": "e5a02018-ce77-4d68-d133-b1ab0a50d4a8"
      },
      "source": [
        "output-Y"
      ],
      "execution_count": null,
      "outputs": [
        {
          "output_type": "execute_result",
          "data": {
            "text/plain": [
              "array([[1.]])"
            ]
          },
          "metadata": {
            "tags": []
          },
          "execution_count": 38
        }
      ]
    },
    {
      "cell_type": "code",
      "metadata": {
        "id": "8Igg3bLtxChk",
        "outputId": "22761b68-956e-4aed-a1fb-a86777070587"
      },
      "source": [
        "loss=np.multiply(Y,np.log(output))+np.multiply((1-Y),np.log(1-output))"
      ],
      "execution_count": null,
      "outputs": [
        {
          "output_type": "stream",
          "text": [
            "<ipython-input-40-32fbfe961744>:1: RuntimeWarning: invalid value encountered in log\n",
            "  loss=np.multiply(Y,np.log(output))+np.multiply((1-Y),np.log(1-output))\n"
          ],
          "name": "stderr"
        }
      ]
    },
    {
      "cell_type": "code",
      "metadata": {
        "id": "BWSDoxy-xChl",
        "outputId": "479bf3ea-ebd6-4ee2-d2ed-c65ff36bbfc4"
      },
      "source": [
        "1-output"
      ],
      "execution_count": null,
      "outputs": [
        {
          "output_type": "execute_result",
          "data": {
            "text/plain": [
              "array([[-1.]])"
            ]
          },
          "metadata": {
            "tags": []
          },
          "execution_count": 41
        }
      ]
    },
    {
      "cell_type": "code",
      "metadata": {
        "id": "gZmRUUUpxChl",
        "outputId": "2e19342d-bdcb-4712-8ed3-2bd1b8a8f809"
      },
      "source": [
        "len(output)"
      ],
      "execution_count": null,
      "outputs": [
        {
          "output_type": "execute_result",
          "data": {
            "text/plain": [
              "1"
            ]
          },
          "metadata": {
            "tags": []
          },
          "execution_count": 44
        }
      ]
    },
    {
      "cell_type": "code",
      "metadata": {
        "id": "6ToKhlrfxChl",
        "outputId": "bcda1af4-7ca8-4678-e3fd-36b2d5fbcdd2"
      },
      "source": [
        "for i in range(layer_count):\n",
        "    print(i)\n"
      ],
      "execution_count": null,
      "outputs": [
        {
          "output_type": "stream",
          "text": [
            "0\n",
            "1\n"
          ],
          "name": "stdout"
        }
      ]
    },
    {
      "cell_type": "code",
      "metadata": {
        "id": "P5ZibZmdxChm"
      },
      "source": [
        "def back_prop(cache,parameters,X,Y,layer_count):\n",
        "    m=cache['A0'].shape[1]\n",
        "    updates={}\n",
        "    for i in reversed(range(1,1+layer_count)):\n",
        "        if i==layer_count:\n",
        "            dZ=cache['A2']-Y\n",
        "        else:\n",
        "            dZ=np.multiply(np.dot(parameters['W2'].T, dZ_layer_ahead), 1 - np.power(cache['A'+str(i)], 2))\n",
        "        dW=(1/m)*np.dot(dZ,cache['A'+str(i-1)].T)\n",
        "        db=(1/m)*np.sum(dZ,axis=1,keepdims=1)\n",
        "        updates['dW'+str(i)]=dW\n",
        "        updates['db'+str(i)]=db\n",
        "        dZ_layer_ahead=dZ\n",
        "        print(dZ)\n",
        "        print(dW)\n",
        "        print(db)\n",
        "    return updates"
      ],
      "execution_count": null,
      "outputs": []
    },
    {
      "cell_type": "code",
      "metadata": {
        "id": "wWHOiDmUxChm"
      },
      "source": [
        "a=np.array([5,10,15])"
      ],
      "execution_count": null,
      "outputs": []
    },
    {
      "cell_type": "code",
      "metadata": {
        "id": "6eV4qd-BxChn",
        "outputId": "93a15689-54b9-4c94-92a1-b7335753787a"
      },
      "source": [
        "a/5"
      ],
      "execution_count": null,
      "outputs": [
        {
          "output_type": "execute_result",
          "data": {
            "text/plain": [
              "array([1., 2., 3.])"
            ]
          },
          "metadata": {
            "tags": []
          },
          "execution_count": 5
        }
      ]
    },
    {
      "cell_type": "code",
      "metadata": {
        "id": "m4S_r89ixChn"
      },
      "source": [
        "if i==layer_count:\n",
        "            dZ=cache['A2']-Y\n",
        "        else:\n",
        "            dZ=np.multiply(np.dot(parameters['W2'].T, dZ_layer_ahead), 1 - np.power(cache['A'+str(i)], 2))\n",
        "        dW=(1/m)*np.dot(dZ,cache['A'+str(i-1)].T)\n",
        "        db=(1/m)*np.sum(dZ,axis=1,keepdims=1)\n",
        "        updates['dW'+str(i)]=dW\n",
        "        updates['db'+str(i)]=db\n",
        "        dZ_layer_ahead=dZ"
      ],
      "execution_count": null,
      "outputs": []
    }
  ]
}