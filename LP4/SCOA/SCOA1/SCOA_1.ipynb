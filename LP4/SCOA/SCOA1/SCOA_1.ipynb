{
  "nbformat": 4,
  "nbformat_minor": 0,
  "metadata": {
    "colab": {
      "name": "SCOA-1.ipynb",
      "provenance": []
    },
    "kernelspec": {
      "name": "python3",
      "display_name": "Python 3"
    },
    "language_info": {
      "name": "python"
    }
  },
  "cells": [
    {
      "cell_type": "code",
      "metadata": {
        "id": "jlNC4f-jAgsm"
      },
      "source": [
        "#fuzzy sets operations\n",
        "'''\n",
        "Implement Union, Intersection, Complement and Difference operations on fuzzy sets. Also create fuzzy relation by Cartesian \n",
        "product of any two fuzzy sets and perform max-min composition on any two fuzzy relations.\n",
        "'''\n",
        "#Here we define two sets young(x) and middleAged(x)\n",
        "\n",
        "def student(x):\n",
        "    if x<=20:\n",
        "        return 1\n",
        "    elif 20<x<=30:\n",
        "        return (30-x)/(30-20)\n",
        "    elif x>30:\n",
        "        return 0\n",
        "\n",
        "\n",
        "def doJob(x): \n",
        "    if x>30:\n",
        "        return 1\n",
        "    elif x<=20:\n",
        "        return 0\n",
        "    elif 20<x<=30:\n",
        "        return (x-20)/(10)\n"
      ],
      "execution_count": null,
      "outputs": []
    },
    {
      "cell_type": "code",
      "metadata": {
        "id": "9b6FU2BoAld_"
      },
      "source": [
        "class Fuzzy:\n",
        "    def __init__(self,item,membership):\n",
        "        self.val = item\n",
        "        self.membership = membership\n",
        "    \n",
        "    def return_membership(self):\n",
        "        return self.membership\n",
        "\n"
      ],
      "execution_count": null,
      "outputs": []
    },
    {
      "cell_type": "code",
      "metadata": {
        "id": "971VTq4UAul5"
      },
      "source": [
        "import random\n",
        "\n",
        "x1 = random.sample(range(15, 40), 20)\n",
        "x2 = x1\n",
        "\n",
        "set1 = [] #student\n",
        "set2 = [] #doJob\n"
      ],
      "execution_count": null,
      "outputs": []
    },
    {
      "cell_type": "code",
      "metadata": {
        "colab": {
          "base_uri": "https://localhost:8080/"
        },
        "id": "kKCPL7CIAxbO",
        "outputId": "45998656-8261-42f5-fee6-2f0980cd65ec"
      },
      "source": [
        "print(x1)\n",
        "print(x2)"
      ],
      "execution_count": null,
      "outputs": [
        {
          "output_type": "stream",
          "text": [
            "[15, 25, 26, 39, 30, 21, 37, 32, 38, 17, 16, 36, 28, 20, 27, 31, 29, 35, 19, 22]\n",
            "[15, 25, 26, 39, 30, 21, 37, 32, 38, 17, 16, 36, 28, 20, 27, 31, 29, 35, 19, 22]\n"
          ],
          "name": "stdout"
        }
      ]
    },
    {
      "cell_type": "code",
      "metadata": {
        "id": "m2eXReD5A0a4"
      },
      "source": [
        "for member in x1:\n",
        "    val = student(member)\n",
        "    obj = Fuzzy(member,val)\n",
        "    set1.append(obj)\n",
        "\n",
        "for member in x2:\n",
        "    val = doJob(member)\n",
        "    obj = Fuzzy(member,val)\n",
        "    set2.append(obj)\n",
        "\n"
      ],
      "execution_count": null,
      "outputs": []
    },
    {
      "cell_type": "code",
      "metadata": {
        "colab": {
          "base_uri": "https://localhost:8080/"
        },
        "id": "0y-nvjFnBGm9",
        "outputId": "9fa41006-0d7a-44bb-9267-0288497dd4be"
      },
      "source": [
        "for obj in set1:\n",
        "    print(obj.val,':',obj.membership)\n",
        "    \n",
        "print('=================================')\n",
        "\n",
        "for obj in set2:\n",
        "    print(obj.val,':',obj.membership)\n",
        "\n"
      ],
      "execution_count": null,
      "outputs": [
        {
          "output_type": "stream",
          "text": [
            "15 : 1\n",
            "25 : 0.5\n",
            "26 : 0.4\n",
            "39 : 0\n",
            "30 : 0.0\n",
            "21 : 0.9\n",
            "37 : 0\n",
            "32 : 0\n",
            "38 : 0\n",
            "17 : 1\n",
            "16 : 1\n",
            "36 : 0\n",
            "28 : 0.2\n",
            "20 : 1\n",
            "27 : 0.3\n",
            "31 : 0\n",
            "29 : 0.1\n",
            "35 : 0\n",
            "19 : 1\n",
            "22 : 0.8\n",
            "=================================\n",
            "15 : 0\n",
            "25 : 0.5\n",
            "26 : 0.6\n",
            "39 : 1\n",
            "30 : 1.0\n",
            "21 : 0.1\n",
            "37 : 1\n",
            "32 : 1\n",
            "38 : 1\n",
            "17 : 0\n",
            "16 : 0\n",
            "36 : 1\n",
            "28 : 0.8\n",
            "20 : 0\n",
            "27 : 0.7\n",
            "31 : 1\n",
            "29 : 0.9\n",
            "35 : 1\n",
            "19 : 0\n",
            "22 : 0.2\n"
          ],
          "name": "stdout"
        }
      ]
    },
    {
      "cell_type": "code",
      "metadata": {
        "colab": {
          "base_uri": "https://localhost:8080/"
        },
        "id": "4h8ckRxmBJQc",
        "outputId": "e942c3c5-fd6f-4f70-9401-ae9fe1a46f1f"
      },
      "source": [
        "student_x = []\n",
        "student_y = []\n",
        "for obj in set1:\n",
        "    student_x.append(obj.val)\n",
        "    student_y.append(obj.membership)\n",
        "job_x=[]\n",
        "job_y=[]\n",
        "for obj in set2:\n",
        "    job_x.append(obj.val)\n",
        "    job_y.append(obj.membership)\n",
        "    \n",
        "print(student_x,student_y,job_x,job_y)\n"
      ],
      "execution_count": null,
      "outputs": [
        {
          "output_type": "stream",
          "text": [
            "[15, 25, 26, 39, 30, 21, 37, 32, 38, 17, 16, 36, 28, 20, 27, 31, 29, 35, 19, 22] [1, 0.5, 0.4, 0, 0.0, 0.9, 0, 0, 0, 1, 1, 0, 0.2, 1, 0.3, 0, 0.1, 0, 1, 0.8] [15, 25, 26, 39, 30, 21, 37, 32, 38, 17, 16, 36, 28, 20, 27, 31, 29, 35, 19, 22] [0, 0.5, 0.6, 1, 1.0, 0.1, 1, 1, 1, 0, 0, 1, 0.8, 0, 0.7, 1, 0.9, 1, 0, 0.2]\n"
          ],
          "name": "stdout"
        }
      ]
    },
    {
      "cell_type": "code",
      "metadata": {
        "colab": {
          "base_uri": "https://localhost:8080/",
          "height": 282
        },
        "id": "WRKCtSGyBLSk",
        "outputId": "dbbe638a-6c5d-4d89-c621-916b263d80b3"
      },
      "source": [
        "import numpy as np\n",
        "import matplotlib.pyplot as plt\n",
        "\n",
        "from scipy.interpolate import interp1d\n",
        "\n",
        "x=np.array(student_x)\n",
        "y=np.array(student_y)\n",
        "\n",
        "x_new = np.linspace(x.min(), x.max(),500)\n",
        "\n",
        "f = interp1d(x, y, kind='quadratic')\n",
        "y_smooth=f(x_new)\n",
        "\n",
        "#=======================================\n",
        "\n",
        "x1=np.array(job_x)\n",
        "y1=np.array(job_y)\n",
        "\n",
        "x_new1 = np.linspace(x1.min(), x1.max(),500)\n",
        "\n",
        "f1 = interp1d(x1, y1, kind='quadratic')\n",
        "y_smooth1=f1(x_new1)\n",
        "\n",
        "\n",
        "\n",
        "\n",
        "\n",
        "\n",
        "plt.plot (x_new,y_smooth)\n",
        "plt.scatter (x, y)\n",
        "plt.plot (x_new1,y_smooth1)\n",
        "plt.scatter (x1, y1)\n",
        "\n"
      ],
      "execution_count": null,
      "outputs": [
        {
          "output_type": "execute_result",
          "data": {
            "text/plain": [
              "<matplotlib.collections.PathCollection at 0x7f69fe047e10>"
            ]
          },
          "metadata": {
            "tags": []
          },
          "execution_count": 8
        },
        {
          "output_type": "display_data",
          "data": {
            "image/png": "[encoded data removed]",
            "text/plain": [
              "<Figure size 432x288 with 1 Axes>"
            ]
          },
          "metadata": {
            "tags": [],
            "needs_background": "light"
          }
        }
      ]
    },
    {
      "cell_type": "code",
      "metadata": {
        "colab": {
          "base_uri": "https://localhost:8080/",
          "height": 282
        },
        "id": "Z_tdjXMLBOXd",
        "outputId": "2541f204-4610-4295-eef5-6eb86e03c9d9"
      },
      "source": [
        "#complement\n",
        "#on set 1\n",
        "import numpy as np\n",
        "import matplotlib.pyplot as plt\n",
        "\n",
        "from scipy.interpolate import interp1d\n",
        "\n",
        "x=np.array(student_x)\n",
        "y=np.array(student_y)\n",
        "\n",
        "x_new = np.linspace(x.min(), x.max(),500)\n",
        "\n",
        "f = interp1d(x, y, kind='quadratic')\n",
        "y_smooth=f(x_new)\n",
        "\n",
        "plt.plot (x_new,y_smooth)\n",
        "plt.scatter (x, y)\n"
      ],
      "execution_count": null,
      "outputs": [
        {
          "output_type": "execute_result",
          "data": {
            "text/plain": [
              "<matplotlib.collections.PathCollection at 0x7f69fdfcdd90>"
            ]
          },
          "metadata": {
            "tags": []
          },
          "execution_count": 9
        },
        {
          "output_type": "display_data",
          "data": {
            "image/png": "[encoded data removed]",
            "text/plain": [
              "<Figure size 432x288 with 1 Axes>"
            ]
          },
          "metadata": {
            "tags": [],
            "needs_background": "light"
          }
        }
      ]
    },
    {
      "cell_type": "code",
      "metadata": {
        "id": "Dn59sRU-BREw"
      },
      "source": [
        "NOTset1 = []\n",
        "for obj in set1:\n",
        "    new_obj = Fuzzy(obj.val,1- obj.membership)\n",
        "    NOTset1.append(new_obj)\n",
        "\n"
      ],
      "execution_count": null,
      "outputs": []
    },
    {
      "cell_type": "code",
      "metadata": {
        "id": "RAUb9GabBTDn"
      },
      "source": [
        "student_x1 = []\n",
        "student_y1 = []\n",
        "for obj in NOTset1:\n",
        "    student_x1.append(obj.val)\n",
        "    student_y1.append(obj.membership)\n"
      ],
      "execution_count": null,
      "outputs": []
    },
    {
      "cell_type": "code",
      "metadata": {
        "colab": {
          "base_uri": "https://localhost:8080/",
          "height": 298
        },
        "id": "Stc4JC5gBU4n",
        "outputId": "2f5d5b84-adb8-4604-895f-2bb6f4af23a1"
      },
      "source": [
        "x_compli=np.array(student_x1)\n",
        "y_compli=np.array(student_y1)\n",
        "\n",
        "x_new_compli = np.linspace(x_compli.min(), x_compli.max(),500)\n",
        "\n",
        "f2 = interp1d(x_compli, y_compli, kind='quadratic')\n",
        "y_smooth_compli=f2(x_new_compli)\n",
        "\n",
        "plt.plot (x_new_compli,y_smooth_compli)\n",
        "plt.title('Complement of SET1 is as follows')\n",
        "plt.scatter (x_compli, y_compli)\n",
        "\n"
      ],
      "execution_count": null,
      "outputs": [
        {
          "output_type": "execute_result",
          "data": {
            "text/plain": [
              "<matplotlib.collections.PathCollection at 0x7f69fdb32f90>"
            ]
          },
          "metadata": {
            "tags": []
          },
          "execution_count": 12
        },
        {
          "output_type": "display_data",
          "data": {
            "image/png": "[encoded data removed]",
            "text/plain": [
              "<Figure size 432x288 with 1 Axes>"
            ]
          },
          "metadata": {
            "tags": [],
            "needs_background": "light"
          }
        }
      ]
    },
    {
      "cell_type": "code",
      "metadata": {
        "colab": {
          "base_uri": "https://localhost:8080/",
          "height": 298
        },
        "id": "51VfW2RsBYVn",
        "outputId": "6c60f804-17bf-475f-b2e3-82d8dff06a6d"
      },
      "source": [
        "x=np.array(student_x)\n",
        "y=np.array(student_y)\n",
        "\n",
        "x_new = np.linspace(x.min(), x.max(),500)\n",
        "\n",
        "f = interp1d(x, y, kind='quadratic')\n",
        "y_smooth=f(x_new)\n",
        "\n",
        "plt.plot (x_new,y_smooth)\n",
        "plt.scatter (x, y)\n",
        "\n",
        "x_compli=np.array(student_x1)\n",
        "y_compli=np.array(student_y1)\n",
        "\n",
        "x_new_compli = np.linspace(x_compli.min(), x_compli.max(),500)\n",
        "\n",
        "f2 = interp1d(x_compli, y_compli, kind='quadratic')\n",
        "y_smooth_compli=f2(x_new_compli)\n",
        "plt.title('Set and its Complement : blue: set1 and orange: complement of set1')\n",
        "plt.plot (x_new_compli,y_smooth_compli)\n",
        "plt.scatter (x_compli, y_compli)\n"
      ],
      "execution_count": null,
      "outputs": [
        {
          "output_type": "execute_result",
          "data": {
            "text/plain": [
              "<matplotlib.collections.PathCollection at 0x7f69fda2aa10>"
            ]
          },
          "metadata": {
            "tags": []
          },
          "execution_count": 13
        },
        {
          "output_type": "display_data",
          "data": {
            "image/png": "[encoded data removed]",
            "text/plain": [
              "<Figure size 432x288 with 1 Axes>"
            ]
          },
          "metadata": {
            "tags": [],
            "needs_background": "light"
          }
        }
      ]
    },
    {
      "cell_type": "code",
      "metadata": {
        "id": "0ydFNfMmBZT3"
      },
      "source": [
        "#union\n",
        "import math\n",
        "union = []\n",
        "for obj1,obj2 in zip(set1,set2):\n",
        "    new_obj = Fuzzy(obj1.val,max(obj1.membership,obj2.membership))\n",
        "    union.append(new_obj)\n",
        "\n"
      ],
      "execution_count": null,
      "outputs": []
    },
    {
      "cell_type": "code",
      "metadata": {
        "id": "hD_9rUTHBbYD"
      },
      "source": [
        "Ux = []\n",
        "Uy = []\n",
        "for obj in union:\n",
        "    Ux.append(obj.val)\n",
        "    Uy.append(obj.membership)\n"
      ],
      "execution_count": null,
      "outputs": []
    },
    {
      "cell_type": "code",
      "metadata": {
        "colab": {
          "base_uri": "https://localhost:8080/",
          "height": 282
        },
        "id": "TjGG8BYmBdOd",
        "outputId": "3e33680e-a6bd-4979-c1e5-9857f29b7fbe"
      },
      "source": [
        "x=np.array(Ux)\n",
        "y=np.array(Uy)\n",
        "\n",
        "x_new = np.linspace(x.min(), x.max(),500)\n",
        "\n",
        "f = interp1d(x, y, kind='quadratic')\n",
        "y_smooth=f(x_new)\n",
        "\n",
        "\n",
        "plt.plot (x_new,y_smooth)\n",
        "plt.scatter (x, y)\n",
        "\n"
      ],
      "execution_count": null,
      "outputs": [
        {
          "output_type": "execute_result",
          "data": {
            "text/plain": [
              "<matplotlib.collections.PathCollection at 0x7f69fda36450>"
            ]
          },
          "metadata": {
            "tags": []
          },
          "execution_count": 16
        },
        {
          "output_type": "display_data",
          "data": {
            "image/png": "[encoded data removed]",
            "text/plain": [
              "<Figure size 432x288 with 1 Axes>"
            ]
          },
          "metadata": {
            "tags": [],
            "needs_background": "light"
          }
        }
      ]
    },
    {
      "cell_type": "code",
      "metadata": {
        "id": "3k7HKgszBfKg"
      },
      "source": [
        "#intersection\n",
        "intersection = []\n",
        "for obj1,obj2 in zip(set1,set2):\n",
        "    new_obj = Fuzzy(obj1.val,min(obj1.membership,obj2.membership))\n",
        "    intersection.append(new_obj)\n"
      ],
      "execution_count": null,
      "outputs": []
    },
    {
      "cell_type": "code",
      "metadata": {
        "id": "LG3tXtwsBiyT"
      },
      "source": [
        "Ix = []\n",
        "Iy = []\n",
        "for obj in intersection:\n",
        "    Ix.append(obj.val)\n",
        "    Iy.append(obj.membership)\n"
      ],
      "execution_count": null,
      "outputs": []
    },
    {
      "cell_type": "code",
      "metadata": {
        "colab": {
          "base_uri": "https://localhost:8080/",
          "height": 282
        },
        "id": "FMit-MWYBkIP",
        "outputId": "5d7628ad-4d18-45bb-9320-ab29daf9530c"
      },
      "source": [
        "x=np.array(Ix)\n",
        "y=np.array(Iy)\n",
        "\n",
        "x_new = np.linspace(x.min(), x.max(),500)\n",
        "\n",
        "f = interp1d(x, y, kind='quadratic')\n",
        "y_smooth=f(x_new)\n",
        "\n",
        "\n",
        "plt.plot (x_new,y_smooth)\n",
        "plt.scatter (x, y)"
      ],
      "execution_count": null,
      "outputs": [
        {
          "output_type": "execute_result",
          "data": {
            "text/plain": [
              "<matplotlib.collections.PathCollection at 0x7f69fd9a7190>"
            ]
          },
          "metadata": {
            "tags": []
          },
          "execution_count": 19
        },
        {
          "output_type": "display_data",
          "data": {
            "image/png": "[encoded data removed]",
            "text/plain": [
              "<Figure size 432x288 with 1 Axes>"
            ]
          },
          "metadata": {
            "tags": [],
            "needs_background": "light"
          }
        }
      ]
    },
    {
      "cell_type": "code",
      "metadata": {
        "id": "1sbwbsCRBmV-"
      },
      "source": [
        "#difference\n",
        "#difference of 2 sets F1 and F2 is \n",
        "# F1 - F2 = F1 intersect |-F2|\n",
        "\n",
        "\n",
        "# set2 complement\n",
        "NOTset2 = []\n",
        "for obj in set2:\n",
        "    new_obj = Fuzzy(obj.val,1- obj.membership)\n",
        "    NOTset2.append(new_obj)\n"
      ],
      "execution_count": null,
      "outputs": []
    },
    {
      "cell_type": "code",
      "metadata": {
        "id": "vDN4nGVgBpHI"
      },
      "source": [
        "intersection1 = []\n",
        "for obj1,obj2 in zip(set1,NOTset2):\n",
        "    new_obj = Fuzzy(obj1.val,min(obj1.membership,obj2.membership))\n",
        "    intersection1.append(new_obj)\n"
      ],
      "execution_count": null,
      "outputs": []
    },
    {
      "cell_type": "code",
      "metadata": {
        "id": "uQqvE7duBpjD"
      },
      "source": [
        "Ix1 = []\n",
        "Iy1 = []\n",
        "for obj in intersection1:\n",
        "    Ix1.append(obj.val)\n",
        "    Iy1.append(obj.membership)"
      ],
      "execution_count": null,
      "outputs": []
    },
    {
      "cell_type": "code",
      "metadata": {
        "colab": {
          "base_uri": "https://localhost:8080/",
          "height": 282
        },
        "id": "NGTiJcG1Bpk3",
        "outputId": "4b301b75-67de-464f-828d-01272ca3e919"
      },
      "source": [
        "x=np.array(Ix1)\n",
        "y=np.array(Iy1)\n",
        "\n",
        "x_new = np.linspace(x.min(), x.max(),500)\n",
        "\n",
        "f = interp1d(x, y, kind='quadratic')\n",
        "y_smooth=f(x_new)\n",
        "\n",
        "\n",
        "plt.plot (x_new,y_smooth)\n",
        "plt.scatter (x, y)\n"
      ],
      "execution_count": null,
      "outputs": [
        {
          "output_type": "execute_result",
          "data": {
            "text/plain": [
              "<matplotlib.collections.PathCollection at 0x7f69fd912910>"
            ]
          },
          "metadata": {
            "tags": []
          },
          "execution_count": 23
        },
        {
          "output_type": "display_data",
          "data": {
            "image/png": "[encoded data removed]",
            "text/plain": [
              "<Figure size 432x288 with 1 Axes>"
            ]
          },
          "metadata": {
            "tags": [],
            "needs_background": "light"
          }
        }
      ]
    },
    {
      "cell_type": "code",
      "metadata": {
        "id": "dEKEo7PHBwZs"
      },
      "source": [
        "# MIN-MAX composition of 2 fuzzy relatons\n",
        "\n",
        "'''\n",
        "Let 2 relations be R and S and given as follows\n",
        "'''\n",
        "\n",
        "R = [\n",
        "    [0.62,0.45,0.4],\n",
        "    [0.12,0.1,0,34],\n",
        "    [0.43,0.27,0.9]\n",
        "]\n",
        "\n",
        "\n",
        "S = [\n",
        "    [0.11,0.33,0.98],\n",
        "    [0.23,0.37,0.74],\n",
        "    [0.6,0.5,0.19]\n",
        "]\n",
        "\n",
        "#min-max composition will be N*N matrix where N is dimension of both R and S\n",
        "N = 3\n",
        "min_max = []\n",
        "\n",
        "for i in range(N):\n",
        "    List = []\n",
        "    for j in range(N):\n",
        "        #ith row and jth column\n",
        "        I = R[i]\n",
        "        new = []\n",
        "        for k in range(N):\n",
        "            new.append(min(I[k],S[k][j]))\n",
        "        List.append(max(new))\n",
        "    min_max.append(List)\n",
        "\n"
      ],
      "execution_count": null,
      "outputs": []
    },
    {
      "cell_type": "code",
      "metadata": {
        "colab": {
          "base_uri": "https://localhost:8080/"
        },
        "id": "sSN1Tr1LB0PA",
        "outputId": "eacce9df-530b-4fe5-9411-f52f6b426044"
      },
      "source": [
        "print('R : ')\n",
        "for i in range(N):\n",
        "    for j in range(N):\n",
        "        print(R[i][j],' ',end='')\n",
        "    print()\n",
        "\n",
        "print('================================')\n",
        "\n",
        "print('S:')\n",
        "for i in range(N):\n",
        "    for j in range(N):\n",
        "        print(S[i][j],' ',end=' ')\n",
        "    print()\n",
        "\n",
        "print('=========MIN-MAX COMPOSITION IS: ==========')\n",
        "for i in range(N):\n",
        "    for j in range(N):\n",
        "        print(min_max[i][j],' ',end='')\n",
        "    print()\n"
      ],
      "execution_count": null,
      "outputs": [
        {
          "output_type": "stream",
          "text": [
            "R : \n",
            "0.62  0.45  0.4  \n",
            "0.12  0.1  0  \n",
            "0.43  0.27  0.9  \n",
            "================================\n",
            "S:\n",
            "0.11   0.33   0.98   \n",
            "0.23   0.37   0.74   \n",
            "0.6   0.5   0.19   \n",
            "=========MIN-MAX COMPOSITION IS: ==========\n",
            "0.4  0.4  0.62  \n",
            "0.11  0.12  0.12  \n",
            "0.6  0.5  0.43  \n"
          ],
          "name": "stdout"
        }
      ]
    },
    {
      "cell_type": "code",
      "metadata": {
        "id": "jVjxx0peBppq"
      },
      "source": [
        ""
      ],
      "execution_count": null,
      "outputs": []
    },
    {
      "cell_type": "code",
      "metadata": {
        "id": "xkiC-J8cBpy-"
      },
      "source": [
        ""
      ],
      "execution_count": null,
      "outputs": []
    },
    {
      "cell_type": "code",
      "metadata": {
        "id": "za6ZMDLkBp1K"
      },
      "source": [
        ""
      ],
      "execution_count": null,
      "outputs": []
    }
  ]
}